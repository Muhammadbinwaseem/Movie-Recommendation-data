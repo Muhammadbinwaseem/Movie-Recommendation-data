{
 "cells": [
  {
   "cell_type": "code",
   "execution_count": 1,
   "metadata": {},
   "outputs": [],
   "source": [
    "import pandas as pd\n",
    "import numpy as np\n",
    "from sklearn.feature_extraction.text import  TfidfVectorizer\n",
    "from sklearn.metrics.pairwise import linear_kernel"
   ]
  },
  {
   "cell_type": "code",
   "execution_count": 2,
   "metadata": {},
   "outputs": [],
   "source": [
    "credits = pd.read_csv('tmdb_5000_credits.csv')\n",
    "movies = pd.read_csv('tmdb_5000_movies.csv')"
   ]
  },
  {
   "cell_type": "code",
   "execution_count": 3,
   "metadata": {},
   "outputs": [
    {
     "data": {
      "text/plain": [
       "Index(['movie_id', 'title', 'cast', 'crew'], dtype='object')"
      ]
     },
     "execution_count": 3,
     "metadata": {},
     "output_type": "execute_result"
    }
   ],
   "source": [
    "credits.columns"
   ]
  },
  {
   "cell_type": "code",
   "execution_count": 4,
   "metadata": {},
   "outputs": [
    {
     "data": {
      "text/plain": [
       "Index(['budget', 'genres', 'homepage', 'id', 'keywords', 'original_language',\n",
       "       'original_title', 'overview', 'popularity', 'production_companies',\n",
       "       'production_countries', 'release_date', 'revenue', 'runtime',\n",
       "       'spoken_languages', 'status', 'tagline', 'title', 'vote_average',\n",
       "       'vote_count'],\n",
       "      dtype='object')"
      ]
     },
     "execution_count": 4,
     "metadata": {},
     "output_type": "execute_result"
    }
   ],
   "source": [
    "movies.columns"
   ]
  },
  {
   "cell_type": "code",
   "execution_count": 5,
   "metadata": {},
   "outputs": [],
   "source": [
    "credits.columns = ['id', 'title', 'cast', 'crew']\n",
    "movies = movies.merge(credits, on='id')"
   ]
  },
  {
   "cell_type": "code",
   "execution_count": 6,
   "metadata": {},
   "outputs": [
    {
     "data": {
      "text/plain": [
       "0    In the 22nd century, a paraplegic Marine is di...\n",
       "1    Captain Barbossa, long believed to be dead, ha...\n",
       "2    A cryptic message from Bond’s past sends him o...\n",
       "3    Following the death of District Attorney Harve...\n",
       "4    John Carter is a war-weary, former military ca...\n",
       "Name: overview, dtype: object"
      ]
     },
     "execution_count": 6,
     "metadata": {},
     "output_type": "execute_result"
    }
   ],
   "source": [
    "movies['overview'].head(5)"
   ]
  },
  {
   "cell_type": "code",
   "execution_count": 7,
   "metadata": {},
   "outputs": [],
   "source": [
    "movies['overview'] = movies['overview'].fillna('')"
   ]
  },
  {
   "cell_type": "code",
   "execution_count": 8,
   "metadata": {},
   "outputs": [],
   "source": [
    "def create_join(x):\n",
    "    return ''.join(x['keywords']) + '' + ''.join(x['genres']) + '' + ''.join(x['overview'])\n",
    "movies['join'] = movies.apply(create_join, axis=1)"
   ]
  },
  {
   "cell_type": "code",
   "execution_count": 9,
   "metadata": {},
   "outputs": [
    {
     "data": {
      "text/plain": [
       "(4803, 32768)"
      ]
     },
     "execution_count": 9,
     "metadata": {},
     "output_type": "execute_result"
    }
   ],
   "source": [
    "tfidf = TfidfVectorizer(stop_words=\"english\")\n",
    "tfidf_matrices = tfidf.fit_transform(movies['join'])\n",
    "tfidf_matrices.shape"
   ]
  },
  {
   "cell_type": "code",
   "execution_count": 10,
   "metadata": {},
   "outputs": [],
   "source": [
    "cosine_similarity = linear_kernel(tfidf_matrices,tfidf_matrices)"
   ]
  },
  {
   "cell_type": "code",
   "execution_count": 11,
   "metadata": {},
   "outputs": [],
   "source": [
    "indices = pd.Series(movies.index, index=credits['title']).drop_duplicates()"
   ]
  },
  {
   "cell_type": "code",
   "execution_count": 12,
   "metadata": {},
   "outputs": [],
   "source": [
    "def Recommendation_get(title, cosine_similarity = cosine_similarity):\n",
    "    idx = indices[title]\n",
    "    similar_scores = list(enumerate(cosine_similarity[idx]))\n",
    "    similar_scores = sorted(similar_scores, key = lambda x: x[1], reverse = True)\n",
    "    similar_scores = similar_scores[1:21]\n",
    "    movie_indices = [i[0] for i in similar_scores]\n",
    "    return credits['title'].iloc[movie_indices]"
   ]
  },
  {
   "cell_type": "code",
   "execution_count": 14,
   "metadata": {},
   "outputs": [
    {
     "name": "stdout",
     "output_type": "stream",
     "text": [
      "Enter a movie title that you watched recently: Skyfall\n",
      "\t\n",
      "If you like that then you might like these .........\n"
     ]
    },
    {
     "data": {
      "text/plain": [
       "2                               Spectre\n",
       "1343              Never Say Never Again\n",
       "4339                             Dr. No\n",
       "4071              From Russia with Love\n",
       "3143                You Only Live Twice\n",
       "3285                           Restless\n",
       "3343                   Live and Let Die\n",
       "2675               The Spy Who Loved Me\n",
       "11                    Quantum of Solace\n",
       "3251    On Her Majesty's Secret Service\n",
       "1743                          Octopussy\n",
       "147                     Die Another Day\n",
       "1200               The Living Daylights\n",
       "3336               Diamonds Are Forever\n",
       "1713                 For Your Eyes Only\n",
       "425                 Mission: Impossible\n",
       "2428                  Brooklyn's Finest\n",
       "139             Mission: Impossible III\n",
       "1077                     Johnny English\n",
       "3351        The Man with the Golden Gun\n",
       "Name: title, dtype: object"
      ]
     },
     "execution_count": 14,
     "metadata": {},
     "output_type": "execute_result"
    }
   ],
   "source": [
    "title = input(str('Enter a movie title that you watched recently: '))\n",
    "print(\"\\t\")\n",
    "print(\"If you like that then you might like these .........\")\n",
    "Recommendation_get(title, cosine_similarity)"
   ]
  }
 ],
 "metadata": {
  "kernelspec": {
   "display_name": "Python 3",
   "language": "python",
   "name": "python3"
  },
  "language_info": {
   "codemirror_mode": {
    "name": "ipython",
    "version": 3
   },
   "file_extension": ".py",
   "mimetype": "text/x-python",
   "name": "python",
   "nbconvert_exporter": "python",
   "pygments_lexer": "ipython3",
   "version": "3.8.3"
  }
 },
 "nbformat": 4,
 "nbformat_minor": 4
}
